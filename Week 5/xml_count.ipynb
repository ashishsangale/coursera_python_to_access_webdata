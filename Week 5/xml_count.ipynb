{
 "cells": [
  {
   "cell_type": "code",
   "execution_count": 1,
   "metadata": {},
   "outputs": [
    {
     "name": "stdout",
     "output_type": "stream",
     "text": [
      "enter URL: http://py4e-data.dr-chuck.net/comments_264863.xml\n",
      "2659\n",
      "50\n"
     ]
    }
   ],
   "source": [
    "import urllib.request as ur\n",
    "import xml.etree.ElementTree as et\n",
    "\n",
    "url = input(\"enter URL: \")\n",
    "xml = ur.urlopen(url).read()\n",
    "\n",
    "total = 0\n",
    "sum = 0\n",
    "\n",
    "tree = et.fromstring(xml)\n",
    "counts = tree.findall('.//count')\n",
    "for count in counts:\n",
    "    sum += int(count.text)\n",
    "    total += 1\n",
    "    \n",
    "print(sum)\n",
    "print(total)\n",
    "\n"
   ]
  },
  {
   "cell_type": "code",
   "execution_count": null,
   "metadata": {},
   "outputs": [],
   "source": []
  }
 ],
 "metadata": {
  "kernelspec": {
   "display_name": "Python 3",
   "language": "python",
   "name": "python3"
  },
  "language_info": {
   "codemirror_mode": {
    "name": "ipython",
    "version": 3
   },
   "file_extension": ".py",
   "mimetype": "text/x-python",
   "name": "python",
   "nbconvert_exporter": "python",
   "pygments_lexer": "ipython3",
   "version": "3.6.4"
  }
 },
 "nbformat": 4,
 "nbformat_minor": 2
}
