{
 "cells": [
  {
   "cell_type": "markdown",
   "metadata": {},
   "source": [
    "## Week 6"
   ]
  },
  {
   "cell_type": "code",
   "execution_count": 3,
   "metadata": {},
   "outputs": [],
   "source": [
    "import json\n",
    "input = '''[\n",
    "{\n",
    "\"id\":\"001\",\n",
    "\"x\": \"kjsak\",\n",
    "\"name\": \"asjsa\"\n",
    "},\n",
    "{\n",
    "\"id\" : \"022\",\n",
    "\"x\" : \"029\",\n",
    "\"name\": \"asjhks\"\n",
    "}\n",
    "]'''\n",
    "\n",
    "info = json.loads(input)    "
   ]
  },
  {
   "cell_type": "code",
   "execution_count": 7,
   "metadata": {},
   "outputs": [
    {
     "name": "stdout",
     "output_type": "stream",
     "text": [
      "name: asjsa\n",
      "id: 001\n",
      "name: asjhks\n",
      "id: 022\n"
     ]
    }
   ],
   "source": [
    "for line in info:\n",
    "    print('name:', line[\"name\"])\n",
    "    print('id:', line[\"id\"])"
   ]
  },
  {
   "cell_type": "markdown",
   "metadata": {},
   "source": [
    "## Week 6 assignment 1"
   ]
  },
  {
   "cell_type": "code",
   "execution_count": 12,
   "metadata": {},
   "outputs": [
    {
     "name": "stdout",
     "output_type": "stream",
     "text": [
      "enter url http://py4e-data.dr-chuck.net/comments_264864.json\n",
      "2264\n",
      "50\n"
     ]
    }
   ],
   "source": [
    "import urllib.request, urllib.parse, urllib.error\n",
    "import json\n",
    "\n",
    "url = input('enter url')\n",
    "uh = urllib.request.urlopen(url)\n",
    "data = uh.read()\n",
    "newData = json.loads(data)\n",
    "\n",
    "sum = 0\n",
    "counts = 0\n",
    "\n",
    "#print(newData)\n",
    "for item in newData[\"comments\"]:\n",
    "    sum += int(item['count'])\n",
    "    counts += 1\n",
    "\n",
    "    \n",
    "print(sum)    \n",
    "print(counts)"
   ]
  },
  {
   "cell_type": "code",
   "execution_count": null,
   "metadata": {},
   "outputs": [],
   "source": []
  }
 ],
 "metadata": {
  "kernelspec": {
   "display_name": "Python 3",
   "language": "python",
   "name": "python3"
  },
  "language_info": {
   "codemirror_mode": {
    "name": "ipython",
    "version": 3
   },
   "file_extension": ".py",
   "mimetype": "text/x-python",
   "name": "python",
   "nbconvert_exporter": "python",
   "pygments_lexer": "ipython3",
   "version": "3.6.4"
  }
 },
 "nbformat": 4,
 "nbformat_minor": 2
}
